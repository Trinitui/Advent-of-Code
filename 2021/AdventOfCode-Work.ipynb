{
 "cells": [
  {
   "cell_type": "markdown",
   "metadata": {},
   "source": [
    "# Day 1\n",
    "## Part 1"
   ]
  },
  {
   "cell_type": "code",
   "execution_count": 12,
   "metadata": {},
   "outputs": [],
   "source": [
    "import pandas as pd\n",
    "\n",
    "b = pd.read_fwf('input.txt')\n",
    "b[\"comparison\"] = b['numbers'].diff()\n",
    "answer = b['comparison'] > 0\n",
    "answer.value_counts()"
   ]
  },
  {
   "cell_type": "markdown",
   "metadata": {},
   "source": [
    "## Part 2"
   ]
  },
  {
   "cell_type": "code",
   "execution_count": 53,
   "metadata": {},
   "outputs": [
    {
     "data": {
      "text/plain": [
       "True     1797\n",
       "False     203\n",
       "Name: comparison, dtype: int64"
      ]
     },
     "execution_count": 53,
     "metadata": {},
     "output_type": "execute_result"
    }
   ],
   "source": [
    "c = pd.read_fwf('input.txt')\n",
    "c[\"comparison\"] = c.diff(3)\n",
    "answer = c['comparison'] > 0\n",
    "answer.value_counts()"
   ]
  },
  {
   "cell_type": "markdown",
   "metadata": {},
   "source": [
    "# Day 2\n",
    "## Part 1"
   ]
  },
  {
   "cell_type": "code",
   "execution_count": 120,
   "metadata": {},
   "outputs": [],
   "source": [
    "import pandas as pd\n",
    "\n",
    "working = pd.read_fwf('input_day_2.txt')\n",
    "new_cols = working['directions'].str.extract('([a-zA-Z]+)([^a-zA-Z]+)', expand=True)\n",
    "new_cols.columns = ['Direction', 'Value']\n",
    "day2 = pd.merge(working,new_cols,left_index = True, right_index = True)\n",
    "day2 = day2.astype({\"directions\": str, \"Direction\": str, \"Value\":int})"
   ]
  },
  {
   "cell_type": "code",
   "execution_count": 121,
   "metadata": {},
   "outputs": [],
   "source": [
    "just_down = day2[day2['Direction']=='down']\n",
    "just_forward = day2[day2['Direction']=='forward']\n",
    "just_up = day2[day2['Direction']=='up']"
   ]
  },
  {
   "cell_type": "code",
   "execution_count": 57,
   "metadata": {},
   "outputs": [
    {
     "name": "stdout",
     "output_type": "stream",
     "text": [
      "1172 1832\n"
     ]
    },
    {
     "data": {
      "text/plain": [
       "2147104"
      ]
     },
     "execution_count": 57,
     "metadata": {},
     "output_type": "execute_result"
    }
   ],
   "source": [
    "resulting_height =  just_down[\"Value\"].sum() - just_up['Value'].sum()\n",
    "resulting_horz = just_forward['Value'].sum()\n",
    "print(\n",
    "    resulting_height,\n",
    "    resulting_horz\n",
    ")\n",
    "answer = resulting_height * resulting_horz\n",
    "answer"
   ]
  },
  {
   "cell_type": "markdown",
   "metadata": {},
   "source": [
    "## Part 2"
   ]
  },
  {
   "cell_type": "code",
   "execution_count": 122,
   "metadata": {},
   "outputs": [
    {
     "name": "stdout",
     "output_type": "stream",
     "text": [
      "Final Depth: 1116059, Horizontal position: 1832, and aim: 1172, with resulting answer of: 2044620088\n"
     ]
    }
   ],
   "source": [
    "Horz = 0\n",
    "Depth = 0\n",
    "aim = 0\n",
    "\n",
    "for el in range(0,day2.shape[0]):\n",
    "    val = day2.iloc[el]['Value']\n",
    "    \n",
    "    if day2.iloc[el][\"Direction\"] == \"forward\":\n",
    "\n",
    "        Depth = Depth + (aim * val)\n",
    "        Horz = Horz + val # This is good, I think\n",
    "\n",
    "    if day2.iloc[el][\"Direction\"] == 'down':\n",
    "        \n",
    "        aim = aim + val\n",
    "        #Depth = Depth + val\n",
    "\n",
    "\n",
    "    if day2.iloc[el][\"Direction\"] == 'up':\n",
    "        \n",
    "        aim = aim - val\n",
    "        #Depth = Depth - val\n",
    "\n",
    "    #print(f\"Debug! After {el} runs, the current stats are (depth,horz,aim): {Depth,Horz,aim} with these params {val}\",day2.iloc[el][\"Direction\"])\n",
    "\n",
    "print(\n",
    "    f\"Final Depth: {Depth}, Horizontal position: {Horz}, and aim: {aim}, with resulting answer of: {Depth * Horz}\"\n",
    "    )"
   ]
  },
  {
   "cell_type": "code",
   "execution_count": 123,
   "metadata": {},
   "outputs": [],
   "source": [
    "# Answers tried:\n",
    "#  800 1832 100 Answer: 1465600 (Too Low)\n",
    "#  9376 1832 1172 Answer: 17176832 (Too Low)"
   ]
  },
  {
   "cell_type": "markdown",
   "metadata": {},
   "source": [
    "# Day 3\n",
    "## Part 1"
   ]
  },
  {
   "cell_type": "markdown",
   "metadata": {},
   "source": []
  }
 ],
 "metadata": {
  "interpreter": {
   "hash": "fe3f49f6223b380b1ab61690f1c44c9aab96eb9cb65b03e9793ce3b1876ac3d3"
  },
  "kernelspec": {
   "display_name": "Python 3.9.7 64-bit (windows store)",
   "language": "python",
   "name": "python3"
  },
  "language_info": {
   "codemirror_mode": {
    "name": "ipython",
    "version": 3
   },
   "file_extension": ".py",
   "mimetype": "text/x-python",
   "name": "python",
   "nbconvert_exporter": "python",
   "pygments_lexer": "ipython3",
   "version": "3.9.9"
  },
  "orig_nbformat": 4
 },
 "nbformat": 4,
 "nbformat_minor": 2
}
