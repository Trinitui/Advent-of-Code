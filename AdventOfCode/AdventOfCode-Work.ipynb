{
 "cells": [
  {
   "cell_type": "markdown",
   "metadata": {},
   "source": [
    "# Day 1\n",
    "## Part 1"
   ]
  },
  {
   "cell_type": "code",
   "execution_count": 12,
   "metadata": {},
   "outputs": [],
   "source": [
    "import pandas as pd\n",
    "\n",
    "b = pd.read_fwf('input.txt')\n",
    "b[\"comparison\"] = b['numbers'].diff()\n",
    "answer = b['comparison'] > 0\n",
    "answer.value_counts()"
   ]
  },
  {
   "cell_type": "markdown",
   "metadata": {},
   "source": [
    "## Part 2"
   ]
  },
  {
   "cell_type": "code",
   "execution_count": 53,
   "metadata": {},
   "outputs": [
    {
     "data": {
      "text/plain": [
       "True     1797\n",
       "False     203\n",
       "Name: comparison, dtype: int64"
      ]
     },
     "execution_count": 53,
     "metadata": {},
     "output_type": "execute_result"
    }
   ],
   "source": [
    "c = pd.read_fwf('input.txt')\n",
    "c[\"comparison\"] = c.diff(3)\n",
    "answer = c['comparison'] > 0\n",
    "answer.value_counts()"
   ]
  },
  {
   "cell_type": "markdown",
   "metadata": {},
   "source": [
    "# Day 2\n",
    "## Part 1"
   ]
  },
  {
   "cell_type": "code",
   "execution_count": 42,
   "metadata": {},
   "outputs": [],
   "source": [
    "import pandas as pd\n",
    "\n",
    "working = pd.read_fwf('input_day_2.txt')"
   ]
  },
  {
   "cell_type": "code",
   "execution_count": 43,
   "metadata": {},
   "outputs": [],
   "source": [
    "new_cols = working['directions'].str.extract('([a-zA-Z]+)([^a-zA-Z]+)', expand=True)\n",
    "new_cols.columns = ['Direction', 'Value']\n",
    "day2 = pd.merge(working,new_cols,left_index = True, right_index = True)\n",
    "day2 = day2.astype({\"directions\": str, \"Direction\": str, \"Value\":int})"
   ]
  },
  {
   "cell_type": "code",
   "execution_count": 44,
   "metadata": {},
   "outputs": [],
   "source": [
    "just_down = day2[day2['Direction']=='down']\n",
    "just_forward = day2[day2['Direction']=='forward']\n",
    "just_up = day2[day2['Direction']=='up']"
   ]
  },
  {
   "cell_type": "code",
   "execution_count": 45,
   "metadata": {},
   "outputs": [
    {
     "name": "stdout",
     "output_type": "stream",
     "text": [
      "1172 1832\n"
     ]
    },
    {
     "data": {
      "text/plain": [
       "2147104"
      ]
     },
     "execution_count": 45,
     "metadata": {},
     "output_type": "execute_result"
    }
   ],
   "source": [
    "resulting_height =  just_down[\"Value\"].sum() - just_up['Value'].sum()\n",
    "resulting_horz = just_forward['Value'].sum()\n",
    "print(\n",
    "    resulting_height,\n",
    "    resulting_horz\n",
    ")\n",
    "answer = resulting_height * resulting_horz\n",
    "answer"
   ]
  },
  {
   "cell_type": "markdown",
   "metadata": {},
   "source": [
    "## Part 2"
   ]
  },
  {
   "cell_type": "code",
   "execution_count": 46,
   "metadata": {},
   "outputs": [
    {
     "data": {
      "text/html": [
       "<div>\n",
       "<style scoped>\n",
       "    .dataframe tbody tr th:only-of-type {\n",
       "        vertical-align: middle;\n",
       "    }\n",
       "\n",
       "    .dataframe tbody tr th {\n",
       "        vertical-align: top;\n",
       "    }\n",
       "\n",
       "    .dataframe thead th {\n",
       "        text-align: right;\n",
       "    }\n",
       "</style>\n",
       "<table border=\"1\" class=\"dataframe\">\n",
       "  <thead>\n",
       "    <tr style=\"text-align: right;\">\n",
       "      <th></th>\n",
       "      <th>directions</th>\n",
       "      <th>Direction</th>\n",
       "      <th>Value</th>\n",
       "      <th>Horz</th>\n",
       "      <th>Depth</th>\n",
       "      <th>Aim</th>\n",
       "    </tr>\n",
       "  </thead>\n",
       "  <tbody>\n",
       "    <tr>\n",
       "      <th>0</th>\n",
       "      <td>forward 3</td>\n",
       "      <td>forward</td>\n",
       "      <td>3</td>\n",
       "      <td>0</td>\n",
       "      <td>0</td>\n",
       "      <td>0</td>\n",
       "    </tr>\n",
       "    <tr>\n",
       "      <th>1</th>\n",
       "      <td>down 7</td>\n",
       "      <td>down</td>\n",
       "      <td>7</td>\n",
       "      <td>0</td>\n",
       "      <td>0</td>\n",
       "      <td>0</td>\n",
       "    </tr>\n",
       "  </tbody>\n",
       "</table>\n",
       "</div>"
      ],
      "text/plain": [
       "  directions Direction  Value  Horz  Depth  Aim\n",
       "0  forward 3   forward      3     0      0    0\n",
       "1     down 7      down      7     0      0    0"
      ]
     },
     "execution_count": 46,
     "metadata": {},
     "output_type": "execute_result"
    }
   ],
   "source": [
    "day2['Horz'] = 0\n",
    "day2['Depth'] = 0\n",
    "day2[\"Aim\"] = 0\n",
    "\n",
    "aim = 0\n",
    "day2.head(2)"
   ]
  },
  {
   "cell_type": "code",
   "execution_count": 47,
   "metadata": {},
   "outputs": [
    {
     "data": {
      "text/plain": [
       "1000"
      ]
     },
     "execution_count": 47,
     "metadata": {},
     "output_type": "execute_result"
    }
   ],
   "source": [
    "day2.shape[0]"
   ]
  },
  {
   "cell_type": "code",
   "execution_count": 52,
   "metadata": {},
   "outputs": [
    {
     "name": "stderr",
     "output_type": "stream",
     "text": [
      "<ipython-input-52-0a9f49b6c0fc>:8: SettingWithCopyWarning: \n",
      "A value is trying to be set on a copy of a slice from a DataFrame\n",
      "\n",
      "See the caveats in the documentation: https://pandas.pydata.org/pandas-docs/stable/user_guide/indexing.html#returning-a-view-versus-a-copy\n",
      "  day2copy.iloc[el][\"Horz\"] = day2copy.iloc[el][\"Horz\"] + day2copy.iloc[el][\"Value\"]\n",
      "<ipython-input-52-0a9f49b6c0fc>:9: SettingWithCopyWarning: \n",
      "A value is trying to be set on a copy of a slice from a DataFrame\n",
      "\n",
      "See the caveats in the documentation: https://pandas.pydata.org/pandas-docs/stable/user_guide/indexing.html#returning-a-view-versus-a-copy\n",
      "  day2copy.iloc[el][\"Aim\"] = day2copy.iloc[el]['Value'] * aim\n"
     ]
    },
    {
     "data": {
      "text/html": [
       "<div>\n",
       "<style scoped>\n",
       "    .dataframe tbody tr th:only-of-type {\n",
       "        vertical-align: middle;\n",
       "    }\n",
       "\n",
       "    .dataframe tbody tr th {\n",
       "        vertical-align: top;\n",
       "    }\n",
       "\n",
       "    .dataframe thead th {\n",
       "        text-align: right;\n",
       "    }\n",
       "</style>\n",
       "<table border=\"1\" class=\"dataframe\">\n",
       "  <thead>\n",
       "    <tr style=\"text-align: right;\">\n",
       "      <th></th>\n",
       "      <th>directions</th>\n",
       "      <th>Direction</th>\n",
       "      <th>Value</th>\n",
       "      <th>Horz</th>\n",
       "      <th>Depth</th>\n",
       "      <th>Aim</th>\n",
       "    </tr>\n",
       "  </thead>\n",
       "  <tbody>\n",
       "    <tr>\n",
       "      <th>0</th>\n",
       "      <td>forward 3</td>\n",
       "      <td>forward</td>\n",
       "      <td>3</td>\n",
       "      <td>0</td>\n",
       "      <td>0</td>\n",
       "      <td>0</td>\n",
       "    </tr>\n",
       "    <tr>\n",
       "      <th>1</th>\n",
       "      <td>down 7</td>\n",
       "      <td>down</td>\n",
       "      <td>7</td>\n",
       "      <td>0</td>\n",
       "      <td>0</td>\n",
       "      <td>0</td>\n",
       "    </tr>\n",
       "    <tr>\n",
       "      <th>2</th>\n",
       "      <td>forward 8</td>\n",
       "      <td>forward</td>\n",
       "      <td>8</td>\n",
       "      <td>0</td>\n",
       "      <td>0</td>\n",
       "      <td>0</td>\n",
       "    </tr>\n",
       "    <tr>\n",
       "      <th>3</th>\n",
       "      <td>down 9</td>\n",
       "      <td>down</td>\n",
       "      <td>9</td>\n",
       "      <td>0</td>\n",
       "      <td>0</td>\n",
       "      <td>0</td>\n",
       "    </tr>\n",
       "    <tr>\n",
       "      <th>4</th>\n",
       "      <td>forward 3</td>\n",
       "      <td>forward</td>\n",
       "      <td>3</td>\n",
       "      <td>0</td>\n",
       "      <td>0</td>\n",
       "      <td>0</td>\n",
       "    </tr>\n",
       "    <tr>\n",
       "      <th>...</th>\n",
       "      <td>...</td>\n",
       "      <td>...</td>\n",
       "      <td>...</td>\n",
       "      <td>...</td>\n",
       "      <td>...</td>\n",
       "      <td>...</td>\n",
       "    </tr>\n",
       "    <tr>\n",
       "      <th>995</th>\n",
       "      <td>down 9</td>\n",
       "      <td>down</td>\n",
       "      <td>9</td>\n",
       "      <td>0</td>\n",
       "      <td>0</td>\n",
       "      <td>0</td>\n",
       "    </tr>\n",
       "    <tr>\n",
       "      <th>996</th>\n",
       "      <td>down 2</td>\n",
       "      <td>down</td>\n",
       "      <td>2</td>\n",
       "      <td>0</td>\n",
       "      <td>0</td>\n",
       "      <td>0</td>\n",
       "    </tr>\n",
       "    <tr>\n",
       "      <th>997</th>\n",
       "      <td>down 6</td>\n",
       "      <td>down</td>\n",
       "      <td>6</td>\n",
       "      <td>0</td>\n",
       "      <td>0</td>\n",
       "      <td>0</td>\n",
       "    </tr>\n",
       "    <tr>\n",
       "      <th>998</th>\n",
       "      <td>down 9</td>\n",
       "      <td>down</td>\n",
       "      <td>9</td>\n",
       "      <td>0</td>\n",
       "      <td>0</td>\n",
       "      <td>0</td>\n",
       "    </tr>\n",
       "    <tr>\n",
       "      <th>999</th>\n",
       "      <td>forward 8</td>\n",
       "      <td>forward</td>\n",
       "      <td>8</td>\n",
       "      <td>0</td>\n",
       "      <td>0</td>\n",
       "      <td>0</td>\n",
       "    </tr>\n",
       "  </tbody>\n",
       "</table>\n",
       "<p>1000 rows × 6 columns</p>\n",
       "</div>"
      ],
      "text/plain": [
       "    directions Direction  Value  Horz  Depth  Aim\n",
       "0    forward 3   forward      3     0      0    0\n",
       "1       down 7      down      7     0      0    0\n",
       "2    forward 8   forward      8     0      0    0\n",
       "3       down 9      down      9     0      0    0\n",
       "4    forward 3   forward      3     0      0    0\n",
       "..         ...       ...    ...   ...    ...  ...\n",
       "995     down 9      down      9     0      0    0\n",
       "996     down 2      down      2     0      0    0\n",
       "997     down 6      down      6     0      0    0\n",
       "998     down 9      down      9     0      0    0\n",
       "999  forward 8   forward      8     0      0    0\n",
       "\n",
       "[1000 rows x 6 columns]"
      ]
     },
     "execution_count": 52,
     "metadata": {},
     "output_type": "execute_result"
    }
   ],
   "source": [
    "aim = 0\n",
    "day2copy = day2.copy()\n",
    "for el in range(0,day2.shape[0]):\n",
    "\n",
    "    if day2.iloc[el][\"Direction\"] == \"forward\":\n",
    "\n",
    "        # Instead, just use vars!!! No meddling with Dataframes.\n",
    "\n",
    "        aim += day2copy.iloc[el]['Value'] * aim\n",
    "\n",
    "        day2copy.iloc[el][\"Horz\"] = day2copy.iloc[el][\"Horz\"] + day2copy.iloc[el][\"Value\"] \n",
    "        day2copy.iloc[el][\"Aim\"] = day2copy.iloc[el]['Value'] * aim\n",
    "        \n",
    "        break\n",
    "\n",
    "    if day2.iloc[el][\"Direction\"] == 'down':\n",
    "        aim += day2.iloc[el] + aim\n",
    "        \n",
    "        day2.iloc[el][\"Aim\"] = aim + day2.iloc[el]['Value']\n",
    "        day2.iloc[el]['Depth'] = day2.iloc[el][\"Depth\"] +day2.iloc[el]['Value']\n",
    "\n",
    "    if day2.iloc[el][\"Direction\"] == 'up':\n",
    "        aim += day2['Value'] - aim\n",
    "\n",
    "        day2.iloc[el][\"Aim\"] = aim -day2.iloc[el]['Value']\n",
    "        day2.iloc[el]['Depth'] = day2.iloc[el][\"Depth\"] - day2.iloc[el]['Value']\n",
    "day2"
   ]
  },
  {
   "cell_type": "code",
   "execution_count": null,
   "metadata": {},
   "outputs": [],
   "source": []
  }
 ],
 "metadata": {
  "interpreter": {
   "hash": "fe3f49f6223b380b1ab61690f1c44c9aab96eb9cb65b03e9793ce3b1876ac3d3"
  },
  "kernelspec": {
   "display_name": "Python 3.9.7 64-bit (windows store)",
   "language": "python",
   "name": "python3"
  },
  "language_info": {
   "codemirror_mode": {
    "name": "ipython",
    "version": 3
   },
   "file_extension": ".py",
   "mimetype": "text/x-python",
   "name": "python",
   "nbconvert_exporter": "python",
   "pygments_lexer": "ipython3",
   "version": "3.9.9"
  },
  "orig_nbformat": 4
 },
 "nbformat": 4,
 "nbformat_minor": 2
}
